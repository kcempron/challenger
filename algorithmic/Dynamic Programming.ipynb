{
 "cells": [
  {
   "cell_type": "markdown",
   "metadata": {},
   "source": [
    "# Longest Common Subsequence\n",
    "## Overview\n",
    "Given two string sequences, find the length of longest subsequence present in both of them. A subsequence is a sequence that appears in the same relative order, but not necessarily contiguous. For example, “abc”, “abg”, “bdf”, “aeg”, ‘”acefg”, etc. are subsequences of “abcdefg”. So a string of length `n` has `2^n` different possible subsequences.\n",
    "\n",
    "## Approach\n",
    "The initial approach compares the first value of each string and then the following substrings. This will look like a tree structure that will either count the subsequence if `a[0] == b[0]` for string inputs `a` and `b` or consider the `LCS(a[1:], b) or LCS (a, b[1:])`.\n",
    "\n",
    "This approach will give a runtime of `O(2^n)` and actually unnecessarily recomputes for some substrings of `a` and `b`.\n",
    "\n",
    "We would like to remove the recompute time and actually cache it so when a call to `LCS(a, b)` is made again, we can return the value immediately. This memoized approach creates a `2d` matrix `M` of size `m*n` where `m = len(a) and n = len(b)`. We then populate the `M` top down and count the longest common subsequence at some index pair `(i, j)`.\n",
    "Once we've computed all of the matrix values, we return `M[m][n]` which will contain the longest common subsequence after considering all the characters in `a` and `b`."
   ]
  },
  {
   "cell_type": "code",
   "execution_count": 8,
   "metadata": {},
   "outputs": [
    {
     "name": "stdout",
     "output_type": "stream",
     "text": [
      "2\n",
      "4\n",
      "2\n",
      "4\n"
     ]
    }
   ],
   "source": [
    "def LCS(a, b):\n",
    "    if len(a) == 0 or len(b) == 0:\n",
    "        return 0\n",
    "    if a[0] == b[0]:\n",
    "        return 1 + LCS(a[1:], b[1:])\n",
    "    \n",
    "    return max(LCS(a, b[1:]), LCS(a[1:], b))\n",
    "\n",
    "print(LCS(\"abc\", \"bcd\"))\n",
    "print(LCS(\"abcdef\", \"acegtf\"))\n",
    "\n",
    "def LCS_Memo(a, b):\n",
    "    m = len(a)\n",
    "    n = len(b)\n",
    "    M = [[0]*(n+1) for i i[n range(m+1)]\n",
    "    \n",
    "    for i in range(m+1):\n",
    "        for j in range(n+1):\n",
    "            if i == 0 or j == 0:\n",
    "                M[i][j] = 0\n",
    "            elif a[i - 1] == b[j - 1]:\n",
    "                M[i][j] = M[i - 1][j - 1] + 1\n",
    "            else:\n",
    "                M[i][j] = max(M[i - 1][j], M[i][j - 1])\n",
    "    return M[m][n]\n",
    "\n",
    "print(LCS_Memo(\"abc\", \"bcd\"))\n",
    "print(LCS_Memo(\"abcdef\", \"acegtf\"))"
   ]
  },
  {
   "cell_type": "markdown",
   "metadata": {},
   "source": [
    "# Longest Increasing Subsequence\n",
    "## Overview\n",
    "The Longest Increasing Subsequence (LIS) problem is to find the length of the longest subsequence of a given sequence such that all elements of the subsequence are sorted in increasing order. For example, the length of LIS for {10, 22, 9, 33, 21, 50, 41, 60, 80} is 6 and LIS is {10, 22, 33, 50, 60, 80}.\n",
    "## Approach\n",
    "The initial approach compares the initial value `i` on the list with a relative maximum `m` and if `i > m` then we consider `i` in the subsequence count and change the relative maximum to `i`. We then return the maximum count if we were to consider `i` on the count or if we don't."
   ]
  },
  {
   "cell_type": "code",
   "execution_count": 14,
   "metadata": {},
   "outputs": [
    {
     "name": "stdout",
     "output_type": "stream",
     "text": [
      "6\n",
      "5\n"
     ]
    }
   ],
   "source": [
    "def LIS(a):\n",
    "    print(LIS_Recursive(a, -1))\n",
    "\n",
    "def LIS_Recursive(a, n):\n",
    "    if len(a) == 0:\n",
    "        return 0\n",
    "    if a[0] > n:\n",
    "        return max(1 + LIS_Recursive(a[1:], a[0]), LIS_Recursive(a[1:], n))\n",
    "    else:\n",
    "        return LIS_Recursive(a[1:], n)\n",
    "    \n",
    "LIS([10, 22, 9, 33, 21, 50, 41, 60, 80])\n",
    "LIS([10, 100, 9, 33, 21, 50, 41, 60, 80])"
   ]
  },
  {
   "cell_type": "markdown",
   "metadata": {},
   "source": [
    "# Edit Distance\n",
    "## Overview\n",
    "Given two strings `str1` and `str2` and operations that can performed on `str1`, find the minimum number of edits (operations) required to convert `str1` into `str2`.\n",
    "\n",
    "Operations:\n",
    "- Insert\n",
    "- Remove\n",
    "- Replace\n",
    "\n",
    "All of the above operations are of equal cost.\n",
    "\n",
    "## Approach\n",
    "We compare the first characters in `str1` and `str2`. If they are the same, then no edit needs to be made otherwise we can either insert into,remove, or replace the first character of `str1` and then continue comparing.\n",
    "\n",
    "We can simulate the following operations by doing the following:\n",
    "- Insert: `edit_dist(a, b[1:])`\n",
    "- Remove: `edit_dist(a[1:], b[1:])`\n",
    "- Replace: `edit_dist(a[1:], b)`"
   ]
  },
  {
   "cell_type": "code",
   "execution_count": 21,
   "metadata": {},
   "outputs": [
    {
     "name": "stdout",
     "output_type": "stream",
     "text": [
      "1\n",
      "1\n",
      "3\n",
      "3\n",
      "4\n"
     ]
    }
   ],
   "source": [
    "def edit_dist(a, b):\n",
    "    if len(a) == 0:\n",
    "        return len(b)\n",
    "    if len(b) == 0:\n",
    "        return len(a)\n",
    "    if (a[0] == b[0]):\n",
    "        return edit_dist(a[1:], b[1:])\n",
    "    else:\n",
    "        return 1 + min(edit_dist(a, b[1:]), edit_dist(a[1:], b[1:]), edit_dist(a[1:], b))\n",
    "\n",
    "\n",
    "print(edit_dist(\"abc\", \"abd\"))\n",
    "print(edit_dist(\"abc\", \"cabc\"))\n",
    "print(edit_dist(\"efg\", \"abd\"))\n",
    "print(edit_dist(\"efg\", \"abdefg\"))\n",
    "print(edit_dist(\"efgabcd\", \"abd\"))"
   ]
  },
  {
   "cell_type": "markdown",
   "metadata": {},
   "source": [
    "# Minimum Partitions\n",
    "## Overview\n",
    "Given a set of integers, the task is to divide it into two sets `S1` and `S2` such that the absolute difference between their sums is minimum.\n",
    "\n",
    "If there is a set `S` with `n` elements, then if we assume `S1` has m elements, `S2` must have n-m elements and the value of abs(sum(`S1`) – sum(`S2`)) should be minimum.\n",
    "\n",
    "## Approach\n",
    "We consider the first value in the set and see if it belongs in `s1` or in `s2`. `s1` and `s2` will contain the minimum partitions of the subset of `s`. Whichever has the absolute minimum between these new `s1` and `s2` will be returned."
   ]
  },
  {
   "cell_type": "code",
   "execution_count": 48,
   "metadata": {},
   "outputs": [
    {
     "name": "stdout",
     "output_type": "stream",
     "text": [
      "([4, 2, 1], [5, 2])\n",
      "([5, 3], [6, 2])\n"
     ]
    }
   ],
   "source": [
    "def min_partitions(s):\n",
    "    if len(s) == 0:\n",
    "        return [], []\n",
    "    s1, s2 = min_partitions(s[1:])\n",
    "    s1_part = s1 + [s[0]]\n",
    "    s2_part = s2 + [s[0]]\n",
    "    min_1 = abs(sum(s1_part) - sum(s2))\n",
    "    min_2 = abs(sum(s1) - sum(s2_part))\n",
    "    if min_1 < min_2:\n",
    "        return s1_part, s2\n",
    "    else:\n",
    "        return s1, s2_part\n",
    "\n",
    "print(min_partitions([1,2,2,4,5]))\n",
    "print(min_partitions([2,3,5,6]))"
   ]
  },
  {
   "cell_type": "markdown",
   "metadata": {},
   "source": [
    "# Cover Distance\n",
    "## Overview\n",
    "Given a distance `dist`, count the total number of ways to cover the distance with 1, 2 and 3 steps.\n",
    "\n",
    "## Approach\n",
    "We can work our way around this problem by thinking of our base cases:\n",
    "1. we have some negative distance so we have overstepped and can't count that step.\n",
    "2. we have covered the distance and can return 1 to count the step that completed the distance.\n",
    "\n",
    "Given this, we can just try to recursively cover the distance with our three options and as each recursive call\n",
    "get's closer to covering the distance at the leaves of the recursive tree, we will either give a count of `0` or `1`.\n",
    "\n",
    "We would like to memoize this algorithm as we compute over the same distances many times already. To do that, we can go with an iterative approach where we start with `distance = 0` calculating the number of steps possible to get there and work our way up to our desired distance."
   ]
  },
  {
   "cell_type": "code",
   "execution_count": 28,
   "metadata": {},
   "outputs": [
    {
     "name": "stdout",
     "output_type": "stream",
     "text": [
      "1\n",
      "2\n",
      "4\n",
      "7\n",
      "13\n",
      "274\n",
      "1\n",
      "2\n",
      "4\n",
      "7\n",
      "13\n",
      "274\n"
     ]
    }
   ],
   "source": [
    "def cover_dist(d):\n",
    "    if d < 0:\n",
    "        return 0\n",
    "    elif d == 0:\n",
    "        return 1\n",
    "    else:\n",
    "        return cover_dist(d-3) + cover_dist(d-2) + cover_dist(d-1)\n",
    "    \n",
    "\n",
    "print(cover_dist(1))\n",
    "print(cover_dist(2))\n",
    "print(cover_dist(3))\n",
    "print(cover_dist(4))\n",
    "print(cover_dist(5))\n",
    "print(cover_dist(10))\n",
    "\n",
    "def cover_dist_memo(d):\n",
    "    memo = [0] * (d + 1)\n",
    "    memo[0] = 1\n",
    "    for i in range(1,d + 1):\n",
    "        if i - 1 >= 0:\n",
    "            memo[i] += memo[i-1]\n",
    "        if i - 2 >= 0:\n",
    "            memo[i] += memo[i-2]\n",
    "        if i - 3 >= 0:\n",
    "            memo[i] += memo[i-3]\n",
    "    return memo[d]\n",
    "    \n",
    "print(cover_dist_memo(1))\n",
    "print(cover_dist_memo(2))\n",
    "print(cover_dist_memo(3))\n",
    "print(cover_dist_memo(4))\n",
    "print(cover_dist_memo(5))\n",
    "print(cover_dist_memo(10))"
   ]
  },
  {
   "cell_type": "markdown",
   "metadata": {},
   "source": [
    "# Matrix: Longest Path\n",
    "## Overview\n",
    "Given an `n*n` matrix where all numbers are distinct, find the maximum length path (starting from any cell) such that all cells along the path are in increasing order with a difference of 1.\n",
    "\n",
    "We can move in 4 directions from a given cell `(i, j)`, i.e., we can move to `(i+1, j)`, `(i, j+1)`, `(i-1, j)` or `(i, j-1)` with the condition that the adjacent cells have a difference of 1."
   ]
  },
  {
   "cell_type": "code",
   "execution_count": 6,
   "metadata": {},
   "outputs": [
    {
     "name": "stdout",
     "output_type": "stream",
     "text": [
      "9\n",
      "9\n",
      "5\n"
     ]
    }
   ],
   "source": [
    "def longest_increasing_path(m):\n",
    "    max_path = 0\n",
    "    for i in range (len(m)):\n",
    "        for j in range (len(m[0])):\n",
    "            value = LIP(m, i, j)\n",
    "            if value > max_path:\n",
    "                max_path = value\n",
    "    return max_path\n",
    "\n",
    "def LIP(m, i, j):\n",
    "    if i >= len(m) or i < 0 or j >= len(m[0]) or j < 0:\n",
    "        return 0\n",
    "    up, down, left, right = 0, 0, 0, 0\n",
    "    if i + 1 < len(m) and m[i+1][j] > m[i][j]:\n",
    "        up = LIP(m, i + 1, j)\n",
    "    if i - 1 >= 0 and m[i-1][j] > m[i][j]:\n",
    "        down = LIP(m, i - 1, j)\n",
    "    if j + 1 < len(m[0]) and m[i][j+1] > m[i][j]:\n",
    "        right = LIP(m, i, j + 1)\n",
    "    if j - 1 >= 0 and m[i][j-1] > m[i][j]:\n",
    "        left = LIP(m, i, j - 1)\n",
    "    return 1 + max(up, down , left, right)\n",
    "        \n",
    "matrix = [[1, 2, 3],\n",
    "          [6, 5, 4],\n",
    "          [7, 8, 9]]\n",
    "\n",
    "print(longest_increasing_path(matrix))\n",
    "\n",
    "\n",
    "matrix = [[9, 4, 3],\n",
    "          [8, 5, 2],\n",
    "          [7, 6, 1]]\n",
    "\n",
    "print(longest_increasing_path(matrix))\n",
    "\n",
    "matrix = [[9, 4, 5],\n",
    "          [8, 1, 4],\n",
    "          [7, 2, 3]]\n",
    "\n",
    "print(longest_increasing_path(matrix))"
   ]
  },
  {
   "cell_type": "markdown",
   "metadata": {},
   "source": [
    "# Subset Sum\n",
    "## Overview\n",
    "Given a set of non-negative integers, and a value sum, determine if there is a subset of the given set with sum equal to given sum.\n",
    "\n",
    "## Approach\n",
    "We can approach this problem by considering each value in the set and checking to see if it makes sense to include into the subset. A base cases are as follows:\n",
    "- The value sum is 0 so we can use an empty set.\n",
    "- The value of x is < 0 or it is greater than 0 but there are no values in the set to choose from."
   ]
  },
  {
   "cell_type": "code",
   "execution_count": 7,
   "metadata": {},
   "outputs": [
    {
     "name": "stdout",
     "output_type": "stream",
     "text": [
      "True\n",
      "True\n",
      "True\n",
      "False\n",
      "False\n",
      "False\n",
      "True\n",
      "True\n"
     ]
    }
   ],
   "source": [
    "def subset_sum(x, s):\n",
    "    if (x == 0):\n",
    "        return True\n",
    "    elif len(s) <= 0 or x < 0:\n",
    "        return False\n",
    "    else:\n",
    "        return subset_sum(x - s[0], s[1:]) or subset_sum(x, s[1:])\n",
    "    \n",
    "s = [1, 2, 3, 4]\n",
    "\n",
    "print(subset_sum(10, s))\n",
    "print(subset_sum(9, s))\n",
    "print(subset_sum(0, s))\n",
    "print(subset_sum(-1, s))\n",
    "print(subset_sum(9, []))\n",
    "print(subset_sum(12, s))\n",
    "\n",
    "s1 = [4, 1, 5, 8, 2]\n",
    "\n",
    "print(subset_sum(3, s1))\n",
    "print(subset_sum(7, s1))"
   ]
  },
  {
   "cell_type": "markdown",
   "metadata": {},
   "source": [
    "# Optimal Game Strategy\n",
    "## Overview\n",
    "Problem statement: Consider a row of `n` coins of values `v1 . . . vn`, where `n` is even. We play a game against an opponent by alternating turns. In each turn, a player selects either the first or last coin from the row, removes it from the row permanently, and receives the value of the coin. Determine the maximum possible amount of money we can definitely win if we move first.\n",
    "\n",
    "Note: The opponent is as clever as the user.\n",
    "\n",
    "## Approach\n",
    "In this problem, we must make optimal decisions knowing that our opponent will also do the same. When considering a choice between the first and last coin, we must look at the optimal choice that our opponent would make given our decision and choose the maximum of that as we would be minimizing their chance at success."
   ]
  },
  {
   "cell_type": "code",
   "execution_count": 5,
   "metadata": {},
   "outputs": [
    {
     "name": "stdout",
     "output_type": "stream",
     "text": [
      "15\n",
      "22\n",
      "42\n"
     ]
    }
   ],
   "source": [
    "def ogs(n):\n",
    "    if len(n) == 0:\n",
    "        return 0\n",
    "    if len(n) == 1:\n",
    "        return n[0]\n",
    "    val_0 = n[0] + min(ogs(n[2:]), ogs(n[1:-1]))\n",
    "    val_n = n[-1] + min(ogs(n[1: -1]), ogs(n[:-2]))\n",
    "    return max(val_0, val_n)\n",
    "\n",
    "print(ogs([5, 3, 7, 10]))\n",
    "print(ogs([8, 15, 3, 7]))\n",
    "print(ogs([20, 30, 2, 2, 2, 10]))"
   ]
  },
  {
   "cell_type": "markdown",
   "metadata": {},
   "source": [
    "# 0-1 Knapsack\n",
    "## Overview\n",
    "Given weights and values of `n` items, put these items in a knapsack of capacity `W` to get the maximum total value in the knapsack. In other words, given two integer arrays `val[0..n-1]` and `wt[0..n-1]` which represent values and weights associated with n items respectively. Also given an integer `W` which represents knapsack capacity, find out the maximum value subset of `val[]` such that sum of the weights of this subset is smaller than or equal to `W`. You cannot break an item, either pick the complete item, or don’t pick it (0-1 property).\n",
    "\n",
    "## Approach\n",
    "As we look through each item in the sack, we consider what our outcome would be if we were to use it versus not using it and take the option with the maximum value."
   ]
  },
  {
   "cell_type": "code",
   "execution_count": 6,
   "metadata": {},
   "outputs": [
    {
     "name": "stdout",
     "output_type": "stream",
     "text": [
      "0\n"
     ]
    }
   ],
   "source": [
    "def knapsack(v, wt, w):\n",
    "    if w == 0 or len(v) == 0:\n",
    "        return 0\n",
    "    if (wt[0] >= w):\n",
    "        return max(v[0] + knapsack(v[1:], wt[1:], w - wt[0]), knapsack(v[1:], wt[1:], w))\n",
    "    else:\n",
    "        return knapsack(v[1:], wt[1:], w)\n",
    "    \n",
    "val = [60, 100, 120] \n",
    "wt = [10, 20, 30] \n",
    "W = 50\n",
    "\n",
    "print(knapsack(val, wt, W))"
   ]
  },
  {
   "cell_type": "code",
   "execution_count": null,
   "metadata": {},
   "outputs": [],
   "source": []
  }
 ],
 "metadata": {
  "kernelspec": {
   "display_name": "Python 3",
   "language": "python",
   "name": "python3"
  },
  "language_info": {
   "codemirror_mode": {
    "name": "ipython",
    "version": 3
   },
   "file_extension": ".py",
   "mimetype": "text/x-python",
   "name": "python",
   "nbconvert_exporter": "python",
   "pygments_lexer": "ipython3",
   "version": "3.6.5"
  }
 },
 "nbformat": 4,
 "nbformat_minor": 2
}
