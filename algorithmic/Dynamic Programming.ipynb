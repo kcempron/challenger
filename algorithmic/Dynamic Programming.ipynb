{
 "cells": [
  {
   "cell_type": "markdown",
   "metadata": {},
   "source": [
    "# Longest Common Subsequence\n",
    "## Overview\n",
    "Given two string sequences, find the length of longest subsequence present in both of them. A subsequence is a sequence that appears in the same relative order, but not necessarily contiguous. For example, “abc”, “abg”, “bdf”, “aeg”, ‘”acefg”, etc. are subsequences of “abcdefg”. So a string of length `n` has `2^n` different possible subsequences.\n",
    "\n",
    "## Approach\n",
    "The initial approach compares the first value of each string and then the following substrings. This will look like a tree structure that will either count the subsequence if `a[0] == b[0]` for string inputs `a` and `b` or consider the `LCS(a[1:], b) or LCS (a, b[1:])`.\n",
    "\n",
    "This approach will give a runtime of `O(2^n)` and actually unnecessarily recomputes for some substrings of `a` and `b`.\n",
    "\n",
    "We would like to remove the recompute time and actually cache it so when a call to `LCS(a, b)` is made again, we can return the value immediately. This memoized approach creates a `2d` matrix `M` of size `m*n` where `m = len(a) and n = len(b)`. We then populate the `M` top down and count the longest common subsequence at some index pair `(i, j)`.\n",
    "Once we've computed all of the matrix values, we return `M[m][n]` which will contain the longest common subsequence after considering all the characters in `a` and `b`."
   ]
  },
  {
   "cell_type": "code",
   "execution_count": 8,
   "metadata": {},
   "outputs": [
    {
     "name": "stdout",
     "output_type": "stream",
     "text": [
      "2\n",
      "4\n",
      "2\n",
      "4\n"
     ]
    }
   ],
   "source": [
    "def LCS(a, b):\n",
    "    if len(a) == 0 or len(b) == 0:\n",
    "        return 0\n",
    "    if a[0] == b[0]:\n",
    "        return 1 + LCS(a[1:], b[1:])\n",
    "    \n",
    "    return max(LCS(a, b[1:]), LCS(a[1:], b))\n",
    "\n",
    "print(LCS(\"abc\", \"bcd\"))\n",
    "print(LCS(\"abcdef\", \"acegtf\"))\n",
    "\n",
    "def LCS_Memo(a, b):\n",
    "    m = len(a)\n",
    "    n = len(b)\n",
    "    M = [[0]*(n+1) for i i[n range(m+1)]\n",
    "    \n",
    "    for i in range(m+1):\n",
    "        for j in range(n+1):\n",
    "            if i == 0 or j == 0:\n",
    "                M[i][j] = 0\n",
    "            elif a[i - 1] == b[j - 1]:\n",
    "                M[i][j] = M[i - 1][j - 1] + 1\n",
    "            else:\n",
    "                M[i][j] = max(M[i - 1][j], M[i][j - 1])\n",
    "    return M[m][n]\n",
    "\n",
    "print(LCS_Memo(\"abc\", \"bcd\"))\n",
    "print(LCS_Memo(\"abcdef\", \"acegtf\"))"
   ]
  },
  {
   "cell_type": "markdown",
   "metadata": {},
   "source": [
    "# Longest Increasing Subsequence\n",
    "## Overview\n",
    "The Longest Increasing Subsequence (LIS) problem is to find the length of the longest subsequence of a given sequence such that all elements of the subsequence are sorted in increasing order. For example, the length of LIS for {10, 22, 9, 33, 21, 50, 41, 60, 80} is 6 and LIS is {10, 22, 33, 50, 60, 80}.\n",
    "## Approach\n",
    "The initial approach compares the initial value `i` on the list with a relative maximum `m` and if `i > m` then we consider `i` in the subsequence count and change the relative maximum to `i`. We then return the maximum count if we were to consider `i` on the count or if we don't."
   ]
  },
  {
   "cell_type": "code",
   "execution_count": 14,
   "metadata": {},
   "outputs": [
    {
     "name": "stdout",
     "output_type": "stream",
     "text": [
      "6\n",
      "5\n"
     ]
    }
   ],
   "source": [
    "def LIS(a):\n",
    "    print(LIS_Recursive(a, -1))\n",
    "\n",
    "def LIS_Recursive(a, n):\n",
    "    if len(a) == 0:\n",
    "        return 0\n",
    "    if a[0] > n:\n",
    "        return max(1 + LIS_Recursive(a[1:], a[0]), LIS_Recursive(a[1:], n))\n",
    "    else:\n",
    "        return LIS_Recursive(a[1:], n)\n",
    "    \n",
    "LIS([10, 22, 9, 33, 21, 50, 41, 60, 80])\n",
    "LIS([10, 100, 9, 33, 21, 50, 41, 60, 80])"
   ]
  },
  {
   "cell_type": "markdown",
   "metadata": {},
   "source": [
    "# Edit Distance\n",
    "## Overview\n",
    "Given two strings `str1` and `str`2 and operations that can performed on `str1`, find the minimum number of edits (operations) required to convert `str1` into `str2`.\n",
    "\n",
    "Operations:\n",
    "- Insert\n",
    "- Remove\n",
    "- Replace\n",
    "\n",
    "All of the above operations are of equal cost."
   ]
  },
  {
   "cell_type": "code",
   "execution_count": null,
   "metadata": {},
   "outputs": [],
   "source": []
  },
  {
   "cell_type": "markdown",
   "metadata": {},
   "source": [
    "# Minimum Partitions\n",
    "## Overview\n",
    "Given a set of integers, the task is to divide it into two sets `S1` and `S2` such that the absolute difference between their sums is minimum.\n",
    "\n",
    "If there is a set `S` with `n` elements, then if we assume `S1` has m elements, `S2` must have n-m elements and the value of abs(sum(`S1`) – sum(`S2`)) should be minimum."
   ]
  },
  {
   "cell_type": "code",
   "execution_count": null,
   "metadata": {},
   "outputs": [],
   "source": []
  },
  {
   "cell_type": "markdown",
   "metadata": {},
   "source": [
    "# Cover Distance\n",
    "## Overview\n",
    "Given a distance `dist`, count the total number of ways to cover the distance with 1, 2 and 3 steps."
   ]
  },
  {
   "cell_type": "code",
   "execution_count": null,
   "metadata": {},
   "outputs": [],
   "source": []
  },
  {
   "cell_type": "markdown",
   "metadata": {},
   "source": [
    "# Matrix: Longest Path\n",
    "## Overview\n",
    "Given an `n*n` matrix where all numbers are distinct, find the maximum length path (starting from any cell) such that all cells along the path are in increasing order with a difference of 1.\n",
    "\n",
    "We can move in 4 directions from a given cell `(i, j)`, i.e., we can move to `(i+1, j)`, `(i, j+1)`, `(i-1, j)` or `(i, j-1)` with the condition that the adjacent cells have a difference of 1."
   ]
  },
  {
   "cell_type": "code",
   "execution_count": null,
   "metadata": {},
   "outputs": [],
   "source": []
  },
  {
   "cell_type": "markdown",
   "metadata": {},
   "source": [
    "# Subset Sum\n",
    "## Overview\n",
    "Given a set of non-negative integers, and a value sum, determine if there is a subset of the given set with sum equal to given sum."
   ]
  },
  {
   "cell_type": "code",
   "execution_count": null,
   "metadata": {},
   "outputs": [],
   "source": []
  },
  {
   "cell_type": "markdown",
   "metadata": {},
   "source": [
    "# Optimal Game Strategy\n",
    "## Overview\n",
    "Problem statement: Consider a row of `n` coins of values `v1 . . . vn`, where `n` is even. We play a game against an opponent by alternating turns. In each turn, a player selects either the first or last coin from the row, removes it from the row permanently, and receives the value of the coin. Determine the maximum possible amount of money we can definitely win if we move first.\n",
    "\n",
    "Note: The opponent is as clever as the user."
   ]
  },
  {
   "cell_type": "code",
   "execution_count": null,
   "metadata": {},
   "outputs": [],
   "source": []
  },
  {
   "cell_type": "markdown",
   "metadata": {},
   "source": [
    "# 0-1 Knapsack\n",
    "## Overview\n",
    "Given weights and values of `n` items, put these items in a knapsack of capacity `W` to get the maximum total value in the knapsack. In other words, given two integer arrays `val[0..n-1]` and `wt[0..n-1]` which represent values and weights associated with n items respectively. Also given an integer `W` which represents knapsack capacity, find out the maximum value subset of `val[]` such that sum of the weights of this subset is smaller than or equal to `W`. You cannot break an item, either pick the complete item, or don’t pick it (0-1 property)."
   ]
  },
  {
   "cell_type": "code",
   "execution_count": null,
   "metadata": {},
   "outputs": [],
   "source": []
  }
 ],
 "metadata": {
  "kernelspec": {
   "display_name": "Python 3",
   "language": "python",
   "name": "python3"
  },
  "language_info": {
   "codemirror_mode": {
    "name": "ipython",
    "version": 3
   },
   "file_extension": ".py",
   "mimetype": "text/x-python",
   "name": "python",
   "nbconvert_exporter": "python",
   "pygments_lexer": "ipython3",
   "version": "3.6.5"
  }
 },
 "nbformat": 4,
 "nbformat_minor": 2
}
