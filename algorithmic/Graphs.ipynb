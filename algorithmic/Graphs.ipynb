{
 "cells": [
  {
   "cell_type": "code",
   "execution_count": 8,
   "metadata": {},
   "outputs": [],
   "source": [
    "from collections import defaultdict\n",
    "import queue\n",
    "class Graph:\n",
    "    def __init__(self):\n",
    "        self.graph = defaultdict(set)\n",
    "            \n",
    "    # function to add an edge to graph \n",
    "    def add_edge(self,u,v): \n",
    "        self.graph[u].add(v) \n",
    "        self.graph[v].add(u)\n",
    "        \n",
    "    def print_graph(self):\n",
    "        print(self.graph.items())"
   ]
  },
  {
   "cell_type": "markdown",
   "metadata": {},
   "source": [
    "# Breadth First Search\n",
    "## Overview\n",
    "An algorithm for traversing/searching tree or graph data structures. It starts at the tree root (or some arbitrary node of a graph, sometimes referred to as a 'search key'), and explores all of the neighbor nodes at the present depth prior to moving on to the nodes at the next depth level.\n",
    "\n",
    "`Runtime: O(|V| + |E|)`\n",
    "\n",
    "## Psuedocode\n",
    "Breadth first traversal is accomplished by enqueueing each level of a tree sequentially as the root of any subtree is encountered. There are 2 cases in the iterative algorithm.\n",
    "\n",
    "- Root case: The traversal queue is initially empty so the root node must be added before the general case.\n",
    "- General case: Process any items in the queue, while also expanding their children. Stop if the queue is empty. The general case will halt after processing the bottom level as leaf nodes have no children.\n",
    "\n",
    "`Input: A search problem (either in a tree or graphical represenation).`\n",
    "\n",
    "`Output: An ordered list of actions to be followed to reach from start state to the goal state.`"
   ]
  },
  {
   "cell_type": "code",
   "execution_count": 30,
   "metadata": {},
   "outputs": [
    {
     "name": "stdout",
     "output_type": "stream",
     "text": [
      "Running BST on node 0\n",
      "0\n",
      "1\n",
      "2\n",
      "3\n",
      "7\n",
      "4\n",
      "5\n",
      "6\n",
      "\n",
      "Running BST on node 3\n",
      "3\n",
      "0\n",
      "6\n",
      "7\n",
      "1\n",
      "2\n",
      "4\n",
      "5\n",
      "\n"
     ]
    }
   ],
   "source": [
    "# Breadth First Search (BST) takes in a graph `g` and a start node `s`.\n",
    "def bst(g, s):\n",
    "    q = queue.Queue()\n",
    "    visited = set()\n",
    "    \n",
    "    q.put(s)\n",
    "    visited.add(s)\n",
    "    while not q.empty():\n",
    "        s = q.get()\n",
    "        print(s)\n",
    "        adj = g.graph[s]\n",
    "        for i in adj:\n",
    "            if i not in visited:\n",
    "                q.put(i)\n",
    "                visited.add(i)\n",
    "    \n",
    "    \n",
    "# Test BST\n",
    "g = Graph()\n",
    "g.add_edge(0, 1)\n",
    "g.add_edge(0, 2)\n",
    "g.add_edge(0, 3)\n",
    "g.add_edge(1, 4)\n",
    "g.add_edge(1, 5)\n",
    "g.add_edge(3, 6)\n",
    "g.add_edge(3, 7)\n",
    "g.add_edge(7, 0)\n",
    "\n",
    "print(\"Running BST on node 0\")\n",
    "bst(g, 0)\n",
    "print()\n",
    "\n",
    "print(\"Running BST on node 3\")\n",
    "bst(g, 3)\n",
    "print()"
   ]
  },
  {
   "cell_type": "markdown",
   "metadata": {},
   "source": [
    "# Depth First Search\n",
    "## Overview\n",
    "An algorithm for traversing/searching tree or graph data structures. It starts at the tree root (or some arbitrary node of a graph, sometimes referred to as a 'search key'), and explores as far as possible along each branch before backtracking.\n",
    "\n",
    "`Runtime: O(|V| + |E|)`\n",
    "\n",
    "## Psuedocode\n",
    "Depth first traversal is accomplished by pushing each level of a tree sequentially into a stack as the root of any subtree is encountered. There are 2 cases in the iterative algorithm.\n",
    "\n",
    "- Root case: The traversal queue is initially empty so the root node must be added before the general case.\n",
    "- General case: Process any items in the stack, while also expanding their children. Stop if the stack is empty. The general case will halt after processing all nodes in the stack.\n",
    "\n",
    "`Input: A search problem (either in a tree or graphical represenation).`\n",
    "\n",
    "`Output: An ordered list of actions to be followed to reach from start state to the goal state.`"
   ]
  },
  {
   "cell_type": "code",
   "execution_count": null,
   "metadata": {},
   "outputs": [],
   "source": []
  },
  {
   "cell_type": "markdown",
   "metadata": {},
   "source": [
    "# Dijkstra's Algorithm\n",
    "## Overview\n",
    "An algorithm for finding the shortest path from a source vertex to a goal vertex in the given graph. Dijkstra’s algorithm is very similar to **Prim’s algorithm** for minimum spanning tree. Like Prim’s MST, we generate a SPT (shortest path tree) with given source as root.\n",
    "\n",
    "`Runtime: O(|E| + |V|*log(|V|))`\n",
    "\n",
    "## Psuedocode\n",
    "- Create a set sptSet (shortest path tree set) that keeps track of vertices included in shortest path tree, i.e., whose minimum distance from source is calculated and finalized. Initially, this set is empty.\n",
    "- Assign a distance value to all vertices in the input graph. Initialize all distance values as INFINITE. Assign distance value as 0 for the source vertex so that it is picked first.\n",
    "- While sptSet doesn’t include the goal vertex:\n",
    "    - Pick a vertex u which is not there in sptSet and has minimum distance value.\n",
    "    - Include u to sptSet.\n",
    "    - Update distance value of all adjacent vertices of u. To update the distance values, iterate through all adjacent vertices. For every adjacent vertex v, if sum of distance value of u (from source) and weight of edge u-v, is less than the distance value of v, then update the distance value of v.\n",
    "\n",
    "`Input: A graph and a starting source.`\n",
    "\n",
    "`Output: A path from start to goal if it exists.`"
   ]
  },
  {
   "cell_type": "code",
   "execution_count": null,
   "metadata": {},
   "outputs": [],
   "source": []
  },
  {
   "cell_type": "markdown",
   "metadata": {},
   "source": [
    "# Topological Sort\n",
    "## Overview\n",
    "Topological sorting for Directed Acyclic Graph (DAG) is a linear ordering of vertices such that for every directed edge uv, vertex u comes before v in the ordering. Topological Sorting for a graph is not possible if the graph is not a DAG.\n",
    "\n",
    "Topological Sorting is mainly used for scheduling jobs from the given dependencies among jobs.\n",
    "\n",
    "`Runtime: O(|V| + |E|)`\n",
    "\n",
    "## Psuedocode\n",
    "- Start with the vertices that do not have any outgoing edges. Remove them from the graph and remove all edges going into them.\n",
    "Add the set of vertices to the output list.\n",
    "- Derive the new set of vertices with no outgoing edges and repeat the first step.\n",
    "- If no set is derivable but there are still edges on the graph, then the graph contains a cyle thus not being a DAG.\n",
    "\n",
    "`Input: A graph and a starting source.`\n",
    "\n",
    "`Output: An ordered list of actions to be followed to reach from start state to the goal state.`"
   ]
  },
  {
   "cell_type": "code",
   "execution_count": null,
   "metadata": {},
   "outputs": [],
   "source": []
  }
 ],
 "metadata": {
  "kernelspec": {
   "display_name": "Python 3",
   "language": "python",
   "name": "python3"
  },
  "language_info": {
   "codemirror_mode": {
    "name": "ipython",
    "version": 3
   },
   "file_extension": ".py",
   "mimetype": "text/x-python",
   "name": "python",
   "nbconvert_exporter": "python",
   "pygments_lexer": "ipython3",
   "version": "3.6.5"
  }
 },
 "nbformat": 4,
 "nbformat_minor": 2
}
